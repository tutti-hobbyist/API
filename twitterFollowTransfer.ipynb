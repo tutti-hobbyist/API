{
 "cells": [
  {
   "cell_type": "markdown",
   "metadata": {},
   "source": [
    "1. ライブラリのインポート"
   ]
  },
  {
   "cell_type": "code",
   "execution_count": 1,
   "metadata": {},
   "outputs": [],
   "source": [
    "import json\n",
    "import pandas as pd\n",
    "import tweepy"
   ]
  },
  {
   "cell_type": "markdown",
   "metadata": {},
   "source": [
    "2. jsonファイルからAPIキーとアクセストークンの読込み"
   ]
  },
  {
   "cell_type": "code",
   "execution_count": 2,
   "metadata": {},
   "outputs": [],
   "source": [
    "# 旧アカウントの読み込み\n",
    "with open('twitterOldAccount.json') as f_old:\n",
    "    oldKeys = json.load(f_old)\n",
    "\n",
    "# 新アカウントの読み込み\n",
    "with open('twitterNewAccount.json') as f_new:\n",
    "    newKeys = json.load(f_new)"
   ]
  },
  {
   "cell_type": "markdown",
   "metadata": {},
   "source": [
    "3. jsonからの読込みを各変数に受け渡し"
   ]
  },
  {
   "cell_type": "code",
   "execution_count": 3,
   "metadata": {},
   "outputs": [],
   "source": [
    "# 旧アカウントの読込み受け渡し\n",
    "old_consumer_key = oldKeys['API_KEY']\n",
    "old_consumer_secret = oldKeys['API_SECRET_KEY']\n",
    "old_access_token = oldKeys['ACCESS_TOKEN']\n",
    "old_access_token_secret = oldKeys['ACCESS_TOKEN_SECRET']\n",
    "\n",
    "# 新アカウントの読込み受け渡し\n",
    "new_consumer_key = newKeys['API_KEY']\n",
    "new_consumer_secret = newKeys['API_SECRET_KEY']\n",
    "new_access_token = newKeys['ACCESS_TOKEN']\n",
    "new_access_token_secret = newKeys['ACCESS_TOKEN_SECRET']"
   ]
  },
  {
   "cell_type": "markdown",
   "metadata": {},
   "source": [
    "4. 新旧アカウントのAPIインスタンス作成"
   ]
  },
  {
   "cell_type": "code",
   "execution_count": 4,
   "metadata": {},
   "outputs": [],
   "source": [
    "# 旧アカウントでAPIインスタンス作成\n",
    "old_auth = tweepy.OAuth1UserHandler(old_consumer_key, old_consumer_secret, old_access_token, old_access_token_secret)\n",
    "old_api = tweepy.API(old_auth, wait_on_rate_limit=True)\n",
    "\n",
    "# 新アカウントでAPIインスタンス作成\n",
    "new_auth = tweepy.OAuth1UserHandler(new_consumer_key, new_consumer_secret, new_access_token, new_access_token_secret)\n",
    "new_api = tweepy.API(new_auth, wait_on_rate_limit=True)"
   ]
  },
  {
   "cell_type": "markdown",
   "metadata": {},
   "source": [
    "5. 旧アカウントでフォローしているアカウントのID、アカウント名、スクリーンネームの取得"
   ]
  },
  {
   "cell_type": "code",
   "execution_count": 5,
   "metadata": {},
   "outputs": [],
   "source": [
    "idxList = ['id', 'name', 'screen_name'] # 取得したい属性のリスト\n",
    "df_oldFollow = pd.DataFrame([], index=idxList) # 旧アカウントでフォローしているアカウントのメタデータ格納用データフレーム\n",
    "follows = tweepy.Cursor(new_api.get_friends, cursor=-1).items()\n",
    "for follow in follows:\n",
    "    record = pd.Series([follow.id, follow.name, follow.screen_name], index=idxList)\n",
    "    df_oldFollow = pd.concat([df_oldFollow, record], axis=1) # 各アカウントの情報を結合してデータフレーム更新\n",
    "colNum = df_oldFollow.shape[1]\n",
    "colList = [i for i in range(colNum)]\n",
    "df_oldFollow.columns = colList # カラムを0始まりの連番に変更"
   ]
  },
  {
   "cell_type": "markdown",
   "metadata": {},
   "source": [
    "6. 旧アカウントでフォローしているアカウントの中から、新アカウントでフォローするアカウントの選択"
   ]
  },
  {
   "cell_type": "code",
   "execution_count": 6,
   "metadata": {},
   "outputs": [],
   "source": [
    "# selector.txtで1/0 (1:フォロー、0:フォローしない) を別テキストファイルで定義\n",
    "with open('selector.txt', 'r') as f:\n",
    "    selectList = f.read().split(\"\\n\") # 1/0のリスト\n",
    "selecter = pd.Series(selectList)\n",
    "df_follow = pd.concat([df_oldFollow.T, selecter], axis=1) # データフレームの結合\n",
    "df_follow.columns = ['id', 'name', 'screen_name', 'selector'] # 結合後のデータフレームのカラム名更新\n",
    "# 新アカウントでdf_follow内のselectorが1のユーザーのみ抽出\n",
    "mask = df_follow['selector'] == str(1)\n",
    "df_follow = df_follow[mask]"
   ]
  },
  {
   "cell_type": "markdown",
   "metadata": {},
   "source": [
    "7. 選択したアカウントを新アカウントでフォロー"
   ]
  },
  {
   "cell_type": "code",
   "execution_count": 7,
   "metadata": {},
   "outputs": [
    {
     "ename": "Forbidden",
     "evalue": "403 Forbidden\n108 - Cannot find specified user.",
     "output_type": "error",
     "traceback": [
      "\u001b[1;31m---------------------------------------------------------------------------\u001b[0m",
      "\u001b[1;31mForbidden\u001b[0m                                 Traceback (most recent call last)",
      "\u001b[1;32mc:\\Users\\tohok\\Desktop\\Git\\API\\Twitter\\twitterFollowTransfer.ipynb Cell 14'\u001b[0m in \u001b[0;36m<cell line: 4>\u001b[1;34m()\u001b[0m\n\u001b[0;32m      <a href='vscode-notebook-cell:/c%3A/Users/tohok/Desktop/Git/API/Twitter/twitterFollowTransfer.ipynb#ch0000013?line=2'>3</a>\u001b[0m id_notFollow \u001b[39m=\u001b[39m \u001b[39mlist\u001b[39m(\u001b[39mset\u001b[39m(follow_id) \u001b[39m^\u001b[39m \u001b[39mset\u001b[39m(currentFollows)) \u001b[39m# 選択されたアカウントの中で、まだフォローしていないアカウントのIDのみ取得\u001b[39;00m\n\u001b[0;32m      <a href='vscode-notebook-cell:/c%3A/Users/tohok/Desktop/Git/API/Twitter/twitterFollowTransfer.ipynb#ch0000013?line=3'>4</a>\u001b[0m \u001b[39mfor\u001b[39;00m \u001b[39mid\u001b[39m \u001b[39min\u001b[39;00m id_notFollow:\n\u001b[1;32m----> <a href='vscode-notebook-cell:/c%3A/Users/tohok/Desktop/Git/API/Twitter/twitterFollowTransfer.ipynb#ch0000013?line=4'>5</a>\u001b[0m     user \u001b[39m=\u001b[39m new_api\u001b[39m.\u001b[39;49mcreate_friendship(user_id\u001b[39m=\u001b[39;49m\u001b[39mid\u001b[39;49m)\n",
      "File \u001b[1;32mc:\\Users\\tohok\\Desktop\\Git\\API\\Twitter\\venv\\lib\\site-packages\\tweepy\\api.py:46\u001b[0m, in \u001b[0;36mpayload.<locals>.decorator.<locals>.wrapper\u001b[1;34m(*args, **kwargs)\u001b[0m\n\u001b[0;32m     <a href='file:///c%3A/Users/tohok/Desktop/Git/API/Twitter/venv/lib/site-packages/tweepy/api.py?line=43'>44</a>\u001b[0m kwargs[\u001b[39m'\u001b[39m\u001b[39mpayload_list\u001b[39m\u001b[39m'\u001b[39m] \u001b[39m=\u001b[39m payload_list\n\u001b[0;32m     <a href='file:///c%3A/Users/tohok/Desktop/Git/API/Twitter/venv/lib/site-packages/tweepy/api.py?line=44'>45</a>\u001b[0m kwargs[\u001b[39m'\u001b[39m\u001b[39mpayload_type\u001b[39m\u001b[39m'\u001b[39m] \u001b[39m=\u001b[39m payload_type\n\u001b[1;32m---> <a href='file:///c%3A/Users/tohok/Desktop/Git/API/Twitter/venv/lib/site-packages/tweepy/api.py?line=45'>46</a>\u001b[0m \u001b[39mreturn\u001b[39;00m method(\u001b[39m*\u001b[39margs, \u001b[39m*\u001b[39m\u001b[39m*\u001b[39mkwargs)\n",
      "File \u001b[1;32mc:\\Users\\tohok\\Desktop\\Git\\API\\Twitter\\venv\\lib\\site-packages\\tweepy\\api.py:2532\u001b[0m, in \u001b[0;36mAPI.create_friendship\u001b[1;34m(self, **kwargs)\u001b[0m\n\u001b[0;32m   <a href='file:///c%3A/Users/tohok/Desktop/Git/API/Twitter/venv/lib/site-packages/tweepy/api.py?line=2507'>2508</a>\u001b[0m \u001b[39m@payload\u001b[39m(\u001b[39m'\u001b[39m\u001b[39muser\u001b[39m\u001b[39m'\u001b[39m)\n\u001b[0;32m   <a href='file:///c%3A/Users/tohok/Desktop/Git/API/Twitter/venv/lib/site-packages/tweepy/api.py?line=2508'>2509</a>\u001b[0m \u001b[39mdef\u001b[39;00m \u001b[39mcreate_friendship\u001b[39m(\u001b[39mself\u001b[39m, \u001b[39m*\u001b[39m\u001b[39m*\u001b[39mkwargs):\n\u001b[0;32m   <a href='file:///c%3A/Users/tohok/Desktop/Git/API/Twitter/venv/lib/site-packages/tweepy/api.py?line=2509'>2510</a>\u001b[0m     \u001b[39m\"\"\"create_friendship(*, screen_name, user_id, follow)\u001b[39;00m\n\u001b[0;32m   <a href='file:///c%3A/Users/tohok/Desktop/Git/API/Twitter/venv/lib/site-packages/tweepy/api.py?line=2510'>2511</a>\u001b[0m \n\u001b[0;32m   <a href='file:///c%3A/Users/tohok/Desktop/Git/API/Twitter/venv/lib/site-packages/tweepy/api.py?line=2511'>2512</a>\u001b[0m \u001b[39m    Create a new friendship with the specified user (aka follow).\u001b[39;00m\n\u001b[1;32m   (...)\u001b[0m\n\u001b[0;32m   <a href='file:///c%3A/Users/tohok/Desktop/Git/API/Twitter/venv/lib/site-packages/tweepy/api.py?line=2529'>2530</a>\u001b[0m \u001b[39m    https://developer.twitter.com/en/docs/twitter-api/v1/accounts-and-users/follow-search-get-users/api-reference/post-friendships-create\u001b[39;00m\n\u001b[0;32m   <a href='file:///c%3A/Users/tohok/Desktop/Git/API/Twitter/venv/lib/site-packages/tweepy/api.py?line=2530'>2531</a>\u001b[0m \u001b[39m    \"\"\"\u001b[39;00m\n\u001b[1;32m-> <a href='file:///c%3A/Users/tohok/Desktop/Git/API/Twitter/venv/lib/site-packages/tweepy/api.py?line=2531'>2532</a>\u001b[0m     \u001b[39mreturn\u001b[39;00m \u001b[39mself\u001b[39m\u001b[39m.\u001b[39mrequest(\n\u001b[0;32m   <a href='file:///c%3A/Users/tohok/Desktop/Git/API/Twitter/venv/lib/site-packages/tweepy/api.py?line=2532'>2533</a>\u001b[0m         \u001b[39m'\u001b[39m\u001b[39mPOST\u001b[39m\u001b[39m'\u001b[39m, \u001b[39m'\u001b[39m\u001b[39mfriendships/create\u001b[39m\u001b[39m'\u001b[39m, endpoint_parameters\u001b[39m=\u001b[39m(\n\u001b[0;32m   <a href='file:///c%3A/Users/tohok/Desktop/Git/API/Twitter/venv/lib/site-packages/tweepy/api.py?line=2533'>2534</a>\u001b[0m             \u001b[39m'\u001b[39m\u001b[39mscreen_name\u001b[39m\u001b[39m'\u001b[39m, \u001b[39m'\u001b[39m\u001b[39muser_id\u001b[39m\u001b[39m'\u001b[39m, \u001b[39m'\u001b[39m\u001b[39mfollow\u001b[39m\u001b[39m'\u001b[39m\n\u001b[0;32m   <a href='file:///c%3A/Users/tohok/Desktop/Git/API/Twitter/venv/lib/site-packages/tweepy/api.py?line=2534'>2535</a>\u001b[0m         ), \u001b[39m*\u001b[39m\u001b[39m*\u001b[39mkwargs\n\u001b[0;32m   <a href='file:///c%3A/Users/tohok/Desktop/Git/API/Twitter/venv/lib/site-packages/tweepy/api.py?line=2535'>2536</a>\u001b[0m     )\n",
      "File \u001b[1;32mc:\\Users\\tohok\\Desktop\\Git\\API\\Twitter\\venv\\lib\\site-packages\\tweepy\\api.py:259\u001b[0m, in \u001b[0;36mAPI.request\u001b[1;34m(self, method, endpoint, endpoint_parameters, params, headers, json_payload, parser, payload_list, payload_type, post_data, files, require_auth, return_cursors, upload_api, use_cache, **kwargs)\u001b[0m\n\u001b[0;32m    <a href='file:///c%3A/Users/tohok/Desktop/Git/API/Twitter/venv/lib/site-packages/tweepy/api.py?line=256'>257</a>\u001b[0m     \u001b[39mraise\u001b[39;00m Unauthorized(resp)\n\u001b[0;32m    <a href='file:///c%3A/Users/tohok/Desktop/Git/API/Twitter/venv/lib/site-packages/tweepy/api.py?line=257'>258</a>\u001b[0m \u001b[39mif\u001b[39;00m resp\u001b[39m.\u001b[39mstatus_code \u001b[39m==\u001b[39m \u001b[39m403\u001b[39m:\n\u001b[1;32m--> <a href='file:///c%3A/Users/tohok/Desktop/Git/API/Twitter/venv/lib/site-packages/tweepy/api.py?line=258'>259</a>\u001b[0m     \u001b[39mraise\u001b[39;00m Forbidden(resp)\n\u001b[0;32m    <a href='file:///c%3A/Users/tohok/Desktop/Git/API/Twitter/venv/lib/site-packages/tweepy/api.py?line=259'>260</a>\u001b[0m \u001b[39mif\u001b[39;00m resp\u001b[39m.\u001b[39mstatus_code \u001b[39m==\u001b[39m \u001b[39m404\u001b[39m:\n\u001b[0;32m    <a href='file:///c%3A/Users/tohok/Desktop/Git/API/Twitter/venv/lib/site-packages/tweepy/api.py?line=260'>261</a>\u001b[0m     \u001b[39mraise\u001b[39;00m NotFound(resp)\n",
      "\u001b[1;31mForbidden\u001b[0m: 403 Forbidden\n108 - Cannot find specified user."
     ]
    }
   ],
   "source": [
    "follow_id = df_follow['id'] # 新アカウントでフォローすると選択したアカウントのID\n",
    "currentFollows = tweepy.Cursor(new_api.get_friend_ids, cursor=-1).items() # 新アカウントで現在フォロー中のアカウントのIDを取得\n",
    "id_notFollow = list(set(follow_id) ^ set(currentFollows)) # 選択されたアカウントの中で、まだフォローしていないアカウントのIDのみ取得\n",
    "for id in id_notFollow:\n",
    "    user = new_api.create_friendship(user_id=id)"
   ]
  },
  {
   "cell_type": "code",
   "execution_count": null,
   "metadata": {},
   "outputs": [],
   "source": []
  }
 ],
 "metadata": {
  "interpreter": {
   "hash": "1e9bbf9329da4e18d1c10e7bcb07f67b351ab8d86f47b3a3cb085778ad6fcab5"
  },
  "kernelspec": {
   "display_name": "Python 3.10.1 ('venv': venv)",
   "language": "python",
   "name": "python3"
  },
  "language_info": {
   "codemirror_mode": {
    "name": "ipython",
    "version": 3
   },
   "file_extension": ".py",
   "mimetype": "text/x-python",
   "name": "python",
   "nbconvert_exporter": "python",
   "pygments_lexer": "ipython3",
   "version": "3.10.1"
  },
  "orig_nbformat": 4
 },
 "nbformat": 4,
 "nbformat_minor": 2
}
