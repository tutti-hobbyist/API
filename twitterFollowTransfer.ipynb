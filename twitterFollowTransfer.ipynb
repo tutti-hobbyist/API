{
 "cells": [
  {
   "cell_type": "markdown",
   "metadata": {},
   "source": [
    "1. ライブラリのインポート"
   ]
  },
  {
   "cell_type": "code",
   "execution_count": 30,
   "metadata": {},
   "outputs": [],
   "source": [
    "import json\n",
    "import pandas as pd\n",
    "import tweepy"
   ]
  },
  {
   "cell_type": "markdown",
   "metadata": {},
   "source": [
    "2. jsonファイルからAPIキーとアクセストークンの読込み"
   ]
  },
  {
   "cell_type": "code",
   "execution_count": 31,
   "metadata": {},
   "outputs": [],
   "source": [
    "# 旧アカウントの読み込み\n",
    "with open('twitterOldAccount.json') as f_old:\n",
    "    oldKeys = json.load(f_old)\n",
    "\n",
    "# 新アカウントの読み込み\n",
    "with open('twitterNewAccount.json') as f_new:\n",
    "    newKeys = json.load(f_new)"
   ]
  },
  {
   "cell_type": "markdown",
   "metadata": {},
   "source": [
    "3. jsonからの読込みを各変数に受け渡し"
   ]
  },
  {
   "cell_type": "code",
   "execution_count": 32,
   "metadata": {},
   "outputs": [],
   "source": [
    "# 旧アカウントの読込み受け渡し\n",
    "old_consumer_key = oldKeys['API_KEY']\n",
    "old_consumer_secret = oldKeys['API_SECRET_KEY']\n",
    "old_access_token = oldKeys['ACCESS_TOKEN']\n",
    "old_access_token_secret = oldKeys['ACCESS_TOKEN_SECRET']\n",
    "\n",
    "# 新アカウントの読込み受け渡し\n",
    "new_consumer_key = newKeys['API_KEY']\n",
    "new_consumer_secret = newKeys['API_SECRET_KEY']\n",
    "new_access_token = newKeys['ACCESS_TOKEN']\n",
    "new_access_token_secret = newKeys['ACCESS_TOKEN_SECRET']"
   ]
  },
  {
   "cell_type": "markdown",
   "metadata": {},
   "source": [
    "4. 新旧アカウントのAPIインスタンス作成"
   ]
  },
  {
   "cell_type": "code",
   "execution_count": 38,
   "metadata": {},
   "outputs": [],
   "source": [
    "# 旧アカウントでAPIインスタンス作成\n",
    "old_auth = tweepy.OAuth1UserHandler(old_consumer_key, old_consumer_secret, old_access_token, old_access_token_secret)\n",
    "old_api = tweepy.API(old_auth, wait_on_rate_limit=True)\n",
    "\n",
    "# 新アカウントでAPIインスタンス作成\n",
    "new_auth = tweepy.OAuth1UserHandler(new_consumer_key, new_consumer_secret, new_access_token, new_access_token_secret)\n",
    "new_api = tweepy.API(new_auth, wait_on_rate_limit=True)"
   ]
  },
  {
   "cell_type": "markdown",
   "metadata": {},
   "source": [
    "5. 旧アカウントでフォローしているアカウントのID、アカウント名、スクリーンネームの取得"
   ]
  },
  {
   "cell_type": "code",
   "execution_count": 40,
   "metadata": {},
   "outputs": [
    {
     "name": "stderr",
     "output_type": "stream",
     "text": [
      "Rate limit reached. Sleeping for: 129\n"
     ]
    }
   ],
   "source": [
    "idxList = ['id', 'name', 'screen_name'] # 取得したい属性のリスト\n",
    "df_oldFollow = pd.DataFrame([], index=idxList) # 旧アカウントでフォローしているアカウントのメタデータ格納用データフレーム\n",
    "follows = tweepy.Cursor(new_api.get_friends, cursor=-1).items()\n",
    "for follow in follows:\n",
    "    record = pd.Series([follow.id, follow.name, follow.screen_name], index=idxList)\n",
    "    df_oldFollow = pd.concat([df_oldFollow, record], axis=1) # 各アカウントの情報を結合してデータフレーム更新\n",
    "colNum = df_oldFollow.shape[1]\n",
    "colList = [i for i in range(colNum)]\n",
    "df_oldFollow.columns = colList # カラムを0始まりの連番に変更"
   ]
  },
  {
   "cell_type": "markdown",
   "metadata": {},
   "source": [
    "6. 旧アカウントでフォローしているアカウントの中から、新アカウントでフォローするアカウントの選択"
   ]
  },
  {
   "cell_type": "code",
   "execution_count": 26,
   "metadata": {},
   "outputs": [
    {
     "data": {
      "text/html": [
       "<div>\n",
       "<style scoped>\n",
       "    .dataframe tbody tr th:only-of-type {\n",
       "        vertical-align: middle;\n",
       "    }\n",
       "\n",
       "    .dataframe tbody tr th {\n",
       "        vertical-align: top;\n",
       "    }\n",
       "\n",
       "    .dataframe thead th {\n",
       "        text-align: right;\n",
       "    }\n",
       "</style>\n",
       "<table border=\"1\" class=\"dataframe\">\n",
       "  <thead>\n",
       "    <tr style=\"text-align: right;\">\n",
       "      <th></th>\n",
       "      <th>id</th>\n",
       "      <th>name</th>\n",
       "      <th>screen_name</th>\n",
       "      <th>selector</th>\n",
       "    </tr>\n",
       "  </thead>\n",
       "  <tbody>\n",
       "    <tr>\n",
       "      <th>0</th>\n",
       "      <td>3016492466</td>\n",
       "      <td>uたそ┃バーチャルITエンジニア</td>\n",
       "      <td>RoboticsY</td>\n",
       "      <td>1</td>\n",
       "    </tr>\n",
       "    <tr>\n",
       "      <th>1</th>\n",
       "      <td>2202495276</td>\n",
       "      <td>catnose</td>\n",
       "      <td>catnose99</td>\n",
       "      <td>1</td>\n",
       "    </tr>\n",
       "    <tr>\n",
       "      <th>2</th>\n",
       "      <td>1171872594926039041</td>\n",
       "      <td>みるか</td>\n",
       "      <td>mirucaaura</td>\n",
       "      <td>1</td>\n",
       "    </tr>\n",
       "    <tr>\n",
       "      <th>3</th>\n",
       "      <td>965085619826249728</td>\n",
       "      <td>Koo</td>\n",
       "      <td>medi_data0826</td>\n",
       "      <td>1</td>\n",
       "    </tr>\n",
       "    <tr>\n",
       "      <th>4</th>\n",
       "      <td>1045906614815940608</td>\n",
       "      <td>あずきつね☁AWS/Azure/GCP</td>\n",
       "      <td>azktn</td>\n",
       "      <td>1</td>\n",
       "    </tr>\n",
       "    <tr>\n",
       "      <th>...</th>\n",
       "      <td>...</td>\n",
       "      <td>...</td>\n",
       "      <td>...</td>\n",
       "      <td>...</td>\n",
       "    </tr>\n",
       "    <tr>\n",
       "      <th>249</th>\n",
       "      <td>1121420041</td>\n",
       "      <td>のりとし</td>\n",
       "      <td>wewillrockyou46</td>\n",
       "      <td>1</td>\n",
       "    </tr>\n",
       "    <tr>\n",
       "      <th>250</th>\n",
       "      <td>514248367</td>\n",
       "      <td>あらせ</td>\n",
       "      <td>atta2222</td>\n",
       "      <td>1</td>\n",
       "    </tr>\n",
       "    <tr>\n",
       "      <th>251</th>\n",
       "      <td>2197703317</td>\n",
       "      <td>たむらりょお</td>\n",
       "      <td>tam04091</td>\n",
       "      <td>1</td>\n",
       "    </tr>\n",
       "    <tr>\n",
       "      <th>252</th>\n",
       "      <td>759258260</td>\n",
       "      <td>さとる</td>\n",
       "      <td>chAngE_38</td>\n",
       "      <td>0</td>\n",
       "    </tr>\n",
       "    <tr>\n",
       "      <th>253</th>\n",
       "      <td>1597911241</td>\n",
       "      <td>。</td>\n",
       "      <td>shineboyx6x</td>\n",
       "      <td>1</td>\n",
       "    </tr>\n",
       "  </tbody>\n",
       "</table>\n",
       "<p>254 rows × 4 columns</p>\n",
       "</div>"
      ],
      "text/plain": [
       "                      id                 name      screen_name selector\n",
       "0             3016492466     uたそ┃バーチャルITエンジニア        RoboticsY        1\n",
       "1             2202495276              catnose        catnose99        1\n",
       "2    1171872594926039041                  みるか       mirucaaura        1\n",
       "3     965085619826249728                  Koo    medi_data0826        1\n",
       "4    1045906614815940608  あずきつね☁AWS/Azure/GCP            azktn        1\n",
       "..                   ...                  ...              ...      ...\n",
       "249           1121420041                 のりとし  wewillrockyou46        1\n",
       "250            514248367                  あらせ         atta2222        1\n",
       "251           2197703317               たむらりょお         tam04091        1\n",
       "252            759258260                  さとる        chAngE_38        0\n",
       "253           1597911241                    。      shineboyx6x        1\n",
       "\n",
       "[254 rows x 4 columns]"
      ]
     },
     "execution_count": 26,
     "metadata": {},
     "output_type": "execute_result"
    }
   ],
   "source": [
    "# selector.txtで1/0 (1:フォロー、0:フォローしない) を別テキストファイルで定義\n",
    "with open('selector.txt', 'r') as f:\n",
    "    selectList = f.read().split(\"\\n\") # 1/0のリスト\n",
    "selecter = pd.Series(selectList)\n",
    "df_follow = pd.concat([df_oldFollow.T, selecter], axis=1) # データフレームの結合\n",
    "df_follow.columns = ['id', 'name', 'screen_name', 'selector'] # 結合後のデータフレームのカラム名更新\n",
    "# 新アカウントでdf_follow内のselectorが1のユーザーのみ抽出\n",
    "mask = df_follow['selector'] == str(1)\n",
    "df_follow = df_follow[mask]"
   ]
  },
  {
   "cell_type": "markdown",
   "metadata": {},
   "source": [
    "7. 選択したアカウントを新アカウントでフォロー"
   ]
  },
  {
   "cell_type": "code",
   "execution_count": 28,
   "metadata": {},
   "outputs": [],
   "source": [
    "follow_id = df_follow['id'] # 新アカウントでフォローすると選択したアカウントのID\n",
    "currentFollows = tweepy.Cursor(new_api.get_friend_ids, cursor=-1).items() # 新アカウントで現在フォロー中のアカウントのIDを取得\n",
    "id_notFollow = list(set(follow_id) ^ set(currentFollows)) # 選択されたアカウントの中で、まだフォローしていないアカウントのIDのみ取得\n",
    "for id in id_notFollow:\n",
    "    user = new_api.create_friendship(user_id=id)"
   ]
  }
 ],
 "metadata": {
  "interpreter": {
   "hash": "fe62a438f9d1b65083b415ea881d7947ba83778b29d10edb0be24069a3c3a4fb"
  },
  "kernelspec": {
   "display_name": "Python 3.10.1 ('venv': venv)",
   "language": "python",
   "name": "python3"
  },
  "language_info": {
   "codemirror_mode": {
    "name": "ipython",
    "version": 3
   },
   "file_extension": ".py",
   "mimetype": "text/x-python",
   "name": "python",
   "nbconvert_exporter": "python",
   "pygments_lexer": "ipython3",
   "version": "3.10.1"
  },
  "orig_nbformat": 4
 },
 "nbformat": 4,
 "nbformat_minor": 2
}
